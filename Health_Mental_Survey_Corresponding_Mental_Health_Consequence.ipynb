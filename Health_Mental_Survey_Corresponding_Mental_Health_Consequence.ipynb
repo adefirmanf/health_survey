{
  "nbformat": 4,
  "nbformat_minor": 0,
  "metadata": {
    "colab": {
      "name": "Health Mental Survey - Corresponding Mental Health Consequence.ipynb",
      "provenance": [],
      "authorship_tag": "ABX9TyMb0WlLMXsoWv812gFBMyCE",
      "include_colab_link": true
    },
    "kernelspec": {
      "name": "python3",
      "display_name": "Python 3"
    }
  },
  "cells": [
    {
      "cell_type": "markdown",
      "metadata": {
        "id": "view-in-github",
        "colab_type": "text"
      },
      "source": [
        "<a href=\"https://colab.research.google.com/github/adefirmanf/health_survey/blob/release/Health_Mental_Survey_Corresponding_Mental_Health_Consequence.ipynb\" target=\"_parent\"><img src=\"https://colab.research.google.com/assets/colab-badge.svg\" alt=\"Open In Colab\"/></a>"
      ]
    },
    {
      "cell_type": "code",
      "metadata": {
        "id": "uPyfBYLP3aIV"
      },
      "source": [
        "#Initialization packages\n",
        "import numpy as np\n",
        "import pandas as pd \n",
        "import seaborn as sb\n",
        "from sklearn import model_selection\n",
        "from sklearn.preprocessing import OneHotEncoder\n",
        "import matplotlib.pyplot as plot\n",
        "from sklearn.metrics import classification_report\n",
        "from sklearn.metrics import accuracy_score\n",
        "\n",
        "# NaiveBayes\n",
        "from sklearn.naive_bayes import GaussianNB\n",
        "# Kneighbors\n",
        "from sklearn.neighbors import KNeighborsClassifier\n",
        "# Random Forest\n",
        "from sklearn.ensemble import RandomForestClassifier"
      ],
      "execution_count": null,
      "outputs": []
    },
    {
      "cell_type": "code",
      "metadata": {
        "id": "ovYrCitRBFWq"
      },
      "source": [
        "# Custom class for LabelEncoder\n",
        "class EncoderMultiColumn:\n",
        "  def __init__ (self, columns):\n",
        "    self.columns = columns\n",
        "  \n",
        "  def DataFrameEncode(self, df):\n",
        "    if not isinstance(df, pd.DataFrame):\n",
        "      raise TypeError(\"type is not pandas.core.frame.DataFrame\")\n",
        "    \n",
        "    encoder = LabelEncoder()\n",
        "    for x in self.columns:\n",
        "      df[x] = encoder.fit_transform(df[x])\n",
        "    return df"
      ],
      "execution_count": null,
      "outputs": []
    },
    {
      "cell_type": "code",
      "metadata": {
        "id": "67VcRbpb4QBD",
        "outputId": "3d9bfecb-f565-4439-b823-c39336471d07",
        "colab": {
          "base_uri": "https://localhost:8080/"
        }
      },
      "source": [
        "# Fetching data\n",
        "data = pd.read_csv('https://query.data.world/s/jpnbsjojct3wr2q4d7t5x4cwlccokm')\n",
        "\n",
        "# Converting to DataFrame\n",
        "data_df = pd.DataFrame(data)\n",
        "\n",
        "# Print head\n",
        "print(data_df)"
      ],
      "execution_count": null,
      "outputs": [
        {
          "output_type": "stream",
          "text": [
            "                Timestamp  Age  ... obs_consequence comments\n",
            "0     2014-08-27 11:29:31   37  ...              No      NaN\n",
            "1     2014-08-27 11:29:37   44  ...              No      NaN\n",
            "2     2014-08-27 11:29:44   32  ...              No      NaN\n",
            "3     2014-08-27 11:29:46   31  ...             Yes      NaN\n",
            "4     2014-08-27 11:30:22   31  ...              No      NaN\n",
            "...                   ...  ...  ...             ...      ...\n",
            "1254  2015-09-12 11:17:21   26  ...              No      NaN\n",
            "1255  2015-09-26 01:07:35   32  ...              No      NaN\n",
            "1256  2015-11-07 12:36:58   34  ...              No      NaN\n",
            "1257  2015-11-30 21:25:06   46  ...              No      NaN\n",
            "1258  2016-02-01 23:04:31   25  ...              No      NaN\n",
            "\n",
            "[1259 rows x 27 columns]\n"
          ],
          "name": "stdout"
        }
      ]
    },
    {
      "cell_type": "code",
      "metadata": {
        "id": "30LdvUni4Yqu",
        "outputId": "86c0cf64-40e3-4301-e36a-497c771ea7e7",
        "colab": {
          "base_uri": "https://localhost:8080/"
        }
      },
      "source": [
        "# Preprocessing \n",
        "# Remove NA values\n",
        "data_df = data_df.dropna()\n",
        "print(data_df)\n",
        "# Remove unecessary values to evaluate\n",
        "#\n",
        "# print(data_df.keys())\n",
        "# Output : \n",
        "# Index(['Timestamp', 'Age', 'Gender', 'Country', 'state', 'self_employed',\n",
        "#        'family_history', 'treatment', 'work_interfere', 'no_employees',\n",
        "#        'remote_work', 'tech_company', 'benefits', 'care_options',\n",
        "#        'wellness_program', 'seek_help', 'anonymity', 'leave',\n",
        "#        'mental_health_consequence', 'phys_health_consequence', 'coworkers',\n",
        "#        'supervisor', 'mental_health_interview', 'phys_health_interview',\n",
        "#        'mental_vs_physical', 'obs_consequence', 'comments'],\n",
        "#       dtype='object')\n",
        "\n",
        "# Remove Timestamp & comments\n",
        "clean_data = data_df.drop(['Timestamp', 'comments'], axis=1)\n",
        "\n",
        "# Gender data seems has many variations values, we should handling these string\n",
        "# i.e (M, Male, F, Female, m, f) :(\n",
        "male_index = clean_data[(clean_data['Gender'] == 'Male') | (clean_data['Gender'] == 'male') | (clean_data['Gender'] == 'm') | (clean_data['Gender'] == 'M') ].index\n",
        "female_index = clean_data[(clean_data['Gender'] == 'Female') | (clean_data['Gender'] == 'female') | (clean_data['Gender'] == 'f') | (clean_data['Gender'] == 'F') ].index\n",
        "\n",
        "clean_data.loc[male_index,'Gender'] = \"Male\"\n",
        "clean_data.loc[female_index,'Gender'] = \"Female\"\n",
        "\n",
        "# Also, we categorized invalid gender as Unknown \n",
        "unknown_index = clean_data[(clean_data['Gender'] != 'Male') & (clean_data['Gender'] != 'Female')].index\n",
        "clean_data.loc[unknown_index,'Gender'] = \"Unknown\"\n"
      ],
      "execution_count": null,
      "outputs": [
        {
          "output_type": "stream",
          "text": [
            "                Timestamp  ...                                           comments\n",
            "24    2014-08-27 11:36:48  ...                Relatively new job. Ask again later\n",
            "25    2014-08-27 11:37:08  ...  Sometimes I think  about using drugs for my me...\n",
            "33    2014-08-27 11:39:36  ...  I selected my current employer based on its po...\n",
            "45    2014-08-27 11:43:36  ...  Our health plan has covered my psychotherapy a...\n",
            "49    2014-08-27 11:44:43  ...  I just started a new job last week hence a lot...\n",
            "...                   ...  ...                                                ...\n",
            "1186  2014-11-06 11:24:38  ...  I'm self-employed on contract with small start...\n",
            "1190  2015-01-03 03:38:30  ...  My mental health issues were the direct result...\n",
            "1219  2015-02-21 09:48:13  ...  I openly discuss my mental health struggles. I...\n",
            "1221  2015-02-21 10:45:51  ...  Just starting a new job hence the numerous I d...\n",
            "1249  2015-07-22 18:57:54  ...                                  Bipolar disorder \n",
            "\n",
            "[86 rows x 27 columns]\n"
          ],
          "name": "stdout"
        }
      ]
    },
    {
      "cell_type": "code",
      "metadata": {
        "id": "ddas7k1mKZ4O",
        "outputId": "3065e37d-6c5c-4252-89aa-ec0e01b27f55",
        "colab": {
          "base_uri": "https://localhost:8080/",
          "height": 297
        }
      },
      "source": [
        "# Show corresponding data using bar \n",
        "sb.countplot(x=\"mental_health_consequence\", data=clean_data)"
      ],
      "execution_count": null,
      "outputs": [
        {
          "output_type": "execute_result",
          "data": {
            "text/plain": [
              "<matplotlib.axes._subplots.AxesSubplot at 0x7f6c35ce9048>"
            ]
          },
          "metadata": {
            "tags": []
          },
          "execution_count": 321
        },
        {
          "output_type": "display_data",
          "data": {
            "image/png": "[encoded data removed]",
            "text/plain": [
              "<Figure size 432x288 with 1 Axes>"
            ]
          },
          "metadata": {
            "tags": [],
            "needs_background": "light"
          }
        }
      ]
    },
    {
      "cell_type": "code",
      "metadata": {
        "id": "fHZ-Lz8nACQM",
        "outputId": "b52b4ec7-f732-4721-c0c8-15ed78163090",
        "colab": {
          "base_uri": "https://localhost:8080/"
        }
      },
      "source": [
        "# Initialization of datasets\n",
        "# Reordering the column mental_health_consequence to the last column \n",
        "# https://stackoverflow.com/a/50262269\n",
        "temp_col = clean_data.pop('mental_health_consequence')\n",
        "clean_data['mental_health_consequence'] = temp_col\n",
        "\n",
        "\n",
        "print(clean_data)\n",
        "\n",
        "# We should converting categories data into numerical type (int)\n",
        "# These data will not encoded to numerical\n",
        "not_encoded_col = ['Age']\n",
        "enc_col = clean_data.columns.values.tolist()\n",
        "col = [x for x in enc_col if x not in not_encoded_col]\n",
        "\n",
        "# This syntax will mutate the original data\n",
        "encode = EncoderMultiColumn(col)\n",
        "encode.DataFrameEncode(clean_data)\n",
        "\n",
        "values = clean_data.values\n",
        "X = values[:,0:(len(clean_data.columns)-1)]\n",
        "Y = values[:,(len(clean_data.columns)-1)]"
      ],
      "execution_count": null,
      "outputs": [
        {
          "output_type": "stream",
          "text": [
            "      Age  Gender  ...  obs_consequence  mental_health_consequence\n",
            "24     33       1  ...                0                          1\n",
            "25     35       1  ...                0                          2\n",
            "33     42       1  ...                0                          0\n",
            "45     38       0  ...                0                          1\n",
            "49     30       1  ...                0                          0\n",
            "...   ...     ...  ...              ...                        ...\n",
            "1186   56       0  ...                0                          0\n",
            "1190   44       1  ...                0                          0\n",
            "1219   38       1  ...                0                          1\n",
            "1221   46       1  ...                0                          1\n",
            "1249   30       1  ...                0                          1\n",
            "\n",
            "[86 rows x 25 columns]\n"
          ],
          "name": "stdout"
        }
      ]
    },
    {
      "cell_type": "code",
      "metadata": {
        "id": "ALD09ZzPL3Tq"
      },
      "source": [
        "# Data trainsets\n",
        "validation_size = 0.20\n",
        "seed = 2\n",
        "scoring = 'accuracy'\n",
        "X_train, X_validation, Y_train, Y_validation = model_selection.train_test_split(X, Y, test_size=validation_size, random_state=seed)"
      ],
      "execution_count": null,
      "outputs": []
    },
    {
      "cell_type": "code",
      "metadata": {
        "id": "VYc6wIlUMb-9"
      },
      "source": [
        "# Kfold\n",
        "kfold = model_selection.KFold(n_splits=4, random_state=seed, shuffle=True)"
      ],
      "execution_count": null,
      "outputs": []
    },
    {
      "cell_type": "code",
      "metadata": {
        "id": "jUFZJHdoMk1S"
      },
      "source": [
        "names = []\n",
        "results = []"
      ],
      "execution_count": null,
      "outputs": []
    },
    {
      "cell_type": "code",
      "metadata": {
        "id": "m-68xCJpMg6_",
        "outputId": "81d2a8e3-0cbb-4c06-db44-a8165a401017",
        "colab": {
          "base_uri": "https://localhost:8080/"
        }
      },
      "source": [
        "# Initiate KNN Classifier\n",
        "# n_neighbors=10, weights='uniform', algorithm='auto', metric='euclidean'\n",
        "knn = KNeighborsClassifier()\n",
        "\n",
        "# Selection model with KNN Classifier\n",
        "knn_results = model_selection.cross_val_score(knn, X_train, Y_train, cv=kfold, scoring=scoring)\n",
        "results.append(knn_results)\n",
        "names.append('KNN')\n",
        "\n",
        "print(knn_results.mean(), knn_results.std())"
      ],
      "execution_count": null,
      "outputs": [
        {
          "output_type": "stream",
          "text": [
            "0.3235294117647059 0.09754778795162938\n"
          ],
          "name": "stdout"
        }
      ]
    },
    {
      "cell_type": "code",
      "metadata": {
        "id": "8ct1u2OONQ6Z",
        "outputId": "b7307353-3ac9-44c2-dbeb-09a8d7feb0cf",
        "colab": {
          "base_uri": "https://localhost:8080/"
        }
      },
      "source": [
        "# Initiate NaiveBayes\n",
        "naive = GaussianNB()\n",
        "\n",
        "# Selection model with NaiveBayes Classifier\n",
        "naive_results = model_selection.cross_val_score(naive, X_train, Y_train, cv=kfold, scoring=scoring)\n",
        "results.append(naive_results)\n",
        "names.append('NVB')\n",
        "\n",
        "print(naive_results.mean(), naive_results.std())"
      ],
      "execution_count": null,
      "outputs": [
        {
          "output_type": "stream",
          "text": [
            "0.47058823529411764 0.0831890330807703\n"
          ],
          "name": "stdout"
        }
      ]
    },
    {
      "cell_type": "code",
      "metadata": {
        "id": "4NOP937nVRZ5",
        "outputId": "346ac130-131b-4b19-c6e8-5c59814b04ed",
        "colab": {
          "base_uri": "https://localhost:8080/"
        }
      },
      "source": [
        "# Random Forest\n",
        "random_forest = RandomForestClassifier()\n",
        "\n",
        "# Selection model with RandomForestClassifier\n",
        "random_forest_results = model_selection.cross_val_score(random_forest, X_train, Y_train, cv=kfold, scoring=scoring)\n",
        "results.append(random_forest_results)\n",
        "names.append('RF')\n",
        "\n",
        "print(random_forest_results.mean(), random_forest_results.std())"
      ],
      "execution_count": null,
      "outputs": [
        {
          "output_type": "stream",
          "text": [
            "0.4852941176470589 0.10502100630210075\n"
          ],
          "name": "stdout"
        }
      ]
    },
    {
      "cell_type": "code",
      "metadata": {
        "id": "hVNEn0ZiWY84",
        "outputId": "c27e807f-4b35-4c74-cd11-bf3188b5ea89",
        "colab": {
          "base_uri": "https://localhost:8080/",
          "height": 294
        }
      },
      "source": [
        "fig = plot.figure()\n",
        "fig.suptitle('Algorithm Comparison')\n",
        "ax = fig.add_subplot(111)\n",
        "plot.boxplot(results)\n",
        "ax.set_xticklabels(names)\n",
        "plot.show()"
      ],
      "execution_count": null,
      "outputs": [
        {
          "output_type": "display_data",
          "data": {
            "image/png": "[encoded data removed]",
            "text/plain": [
              "<Figure size 432x288 with 1 Axes>"
            ]
          },
          "metadata": {
            "tags": [],
            "needs_background": "light"
          }
        }
      ]
    },
    {
      "cell_type": "code",
      "metadata": {
        "id": "HUM3y94YVkW6",
        "outputId": "dc40660f-420f-4bf6-ad0b-55fea1d76f27",
        "colab": {
          "base_uri": "https://localhost:8080/"
        }
      },
      "source": [
        "naive.fit(X_train, Y_train)\n",
        "predictions = naive.predict(X_validation)\n",
        "# print(confusion_matrix(Y_validation, predictions))\n",
        " \n",
        "print(classification_report(Y_validation, predictions))\n",
        "print(\"Score : \",  accuracy_score(Y_validation, predictions))\n",
        " "
      ],
      "execution_count": null,
      "outputs": [
        {
          "output_type": "stream",
          "text": [
            "              precision    recall  f1-score   support\n",
            "\n",
            "           0       1.00      0.20      0.33         5\n",
            "           1       0.71      1.00      0.83        10\n",
            "           2       0.67      0.67      0.67         3\n",
            "\n",
            "    accuracy                           0.72        18\n",
            "   macro avg       0.79      0.62      0.61        18\n",
            "weighted avg       0.79      0.72      0.67        18\n",
            "\n",
            "Score :  0.7222222222222222\n"
          ],
          "name": "stdout"
        }
      ]
    },
    {
      "cell_type": "code",
      "metadata": {
        "id": "g2gPW54ZVpT3",
        "outputId": "9e7974a3-2acd-4fdc-be0b-47cd961a0657",
        "colab": {
          "base_uri": "https://localhost:8080/"
        }
      },
      "source": [
        "knn.fit(X_train, Y_train)\n",
        "predictions = knn.predict(X_validation)\n",
        "print(classification_report(Y_validation, predictions))\n",
        "print(\"Score : \",  accuracy_score(Y_validation, predictions))"
      ],
      "execution_count": null,
      "outputs": [
        {
          "output_type": "stream",
          "text": [
            "              precision    recall  f1-score   support\n",
            "\n",
            "           0       0.33      0.80      0.47         5\n",
            "           1       0.83      0.50      0.62        10\n",
            "           2       0.00      0.00      0.00         3\n",
            "\n",
            "    accuracy                           0.50        18\n",
            "   macro avg       0.39      0.43      0.37        18\n",
            "weighted avg       0.56      0.50      0.48        18\n",
            "\n",
            "Score :  0.5\n"
          ],
          "name": "stdout"
        },
        {
          "output_type": "stream",
          "text": [
            "/usr/local/lib/python3.6/dist-packages/sklearn/metrics/_classification.py:1272: UndefinedMetricWarning: Precision and F-score are ill-defined and being set to 0.0 in labels with no predicted samples. Use `zero_division` parameter to control this behavior.\n",
            "  _warn_prf(average, modifier, msg_start, len(result))\n"
          ],
          "name": "stderr"
        }
      ]
    },
    {
      "cell_type": "code",
      "metadata": {
        "id": "hoCezJNRVszJ",
        "outputId": "09c33bd6-1073-4c2e-b7d7-c91972ec4104",
        "colab": {
          "base_uri": "https://localhost:8080/"
        }
      },
      "source": [
        "random_forest.fit(X_train, Y_train)\n",
        "predictions = random_forest.predict(X_validation)\n",
        "print(classification_report(Y_validation, predictions))\n",
        "print(\"Score : \",  accuracy_score(Y_validation, predictions))"
      ],
      "execution_count": null,
      "outputs": [
        {
          "output_type": "stream",
          "text": [
            "              precision    recall  f1-score   support\n",
            "\n",
            "           0       0.43      0.60      0.50         5\n",
            "           1       0.88      0.70      0.78        10\n",
            "           2       0.67      0.67      0.67         3\n",
            "\n",
            "    accuracy                           0.67        18\n",
            "   macro avg       0.66      0.66      0.65        18\n",
            "weighted avg       0.72      0.67      0.68        18\n",
            "\n",
            "Score :  0.6666666666666666\n"
          ],
          "name": "stdout"
        }
      ]
    }
  ]
}